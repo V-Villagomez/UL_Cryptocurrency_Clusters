{
 "cells": [
  {
   "cell_type": "code",
   "execution_count": 1,
   "id": "106dfbdd",
   "metadata": {},
   "outputs": [],
   "source": [
    "import numpy as np\n",
    "import pandas as pd\n",
    "from pathlib import Path\n",
    "from sklearn.preprocessing import StandardScaler\n",
    "from sklearn.decomposition import PCA\n",
    "from sklearn.manifold import TSNE\n",
    "import matplotlib.pyplot as plt\n",
    "from sklearn.cluster import KMeans"
   ]
  },
  {
   "cell_type": "code",
   "execution_count": 3,
   "id": "2ece2aac",
   "metadata": {},
   "outputs": [
    {
     "data": {
      "text/html": [
       "<div>\n",
       "<style scoped>\n",
       "    .dataframe tbody tr th:only-of-type {\n",
       "        vertical-align: middle;\n",
       "    }\n",
       "\n",
       "    .dataframe tbody tr th {\n",
       "        vertical-align: top;\n",
       "    }\n",
       "\n",
       "    .dataframe thead th {\n",
       "        text-align: right;\n",
       "    }\n",
       "</style>\n",
       "<table border=\"1\" class=\"dataframe\">\n",
       "  <thead>\n",
       "    <tr style=\"text-align: right;\">\n",
       "      <th></th>\n",
       "      <th>Unnamed: 0</th>\n",
       "      <th>CoinName</th>\n",
       "      <th>Algorithm</th>\n",
       "      <th>IsTrading</th>\n",
       "      <th>ProofType</th>\n",
       "      <th>TotalCoinsMined</th>\n",
       "      <th>TotalCoinSupply</th>\n",
       "    </tr>\n",
       "  </thead>\n",
       "  <tbody>\n",
       "    <tr>\n",
       "      <th>0</th>\n",
       "      <td>42</td>\n",
       "      <td>42 Coin</td>\n",
       "      <td>Scrypt</td>\n",
       "      <td>True</td>\n",
       "      <td>PoW/PoS</td>\n",
       "      <td>4.199995e+01</td>\n",
       "      <td>42</td>\n",
       "    </tr>\n",
       "    <tr>\n",
       "      <th>1</th>\n",
       "      <td>365</td>\n",
       "      <td>365Coin</td>\n",
       "      <td>X11</td>\n",
       "      <td>True</td>\n",
       "      <td>PoW/PoS</td>\n",
       "      <td>NaN</td>\n",
       "      <td>2300000000</td>\n",
       "    </tr>\n",
       "    <tr>\n",
       "      <th>2</th>\n",
       "      <td>404</td>\n",
       "      <td>404Coin</td>\n",
       "      <td>Scrypt</td>\n",
       "      <td>True</td>\n",
       "      <td>PoW/PoS</td>\n",
       "      <td>1.055185e+09</td>\n",
       "      <td>532000000</td>\n",
       "    </tr>\n",
       "    <tr>\n",
       "      <th>3</th>\n",
       "      <td>611</td>\n",
       "      <td>SixEleven</td>\n",
       "      <td>SHA-256</td>\n",
       "      <td>True</td>\n",
       "      <td>PoW</td>\n",
       "      <td>NaN</td>\n",
       "      <td>611000</td>\n",
       "    </tr>\n",
       "    <tr>\n",
       "      <th>4</th>\n",
       "      <td>808</td>\n",
       "      <td>808</td>\n",
       "      <td>SHA-256</td>\n",
       "      <td>True</td>\n",
       "      <td>PoW/PoS</td>\n",
       "      <td>0.000000e+00</td>\n",
       "      <td>0</td>\n",
       "    </tr>\n",
       "    <tr>\n",
       "      <th>...</th>\n",
       "      <td>...</td>\n",
       "      <td>...</td>\n",
       "      <td>...</td>\n",
       "      <td>...</td>\n",
       "      <td>...</td>\n",
       "      <td>...</td>\n",
       "      <td>...</td>\n",
       "    </tr>\n",
       "    <tr>\n",
       "      <th>1247</th>\n",
       "      <td>XBC</td>\n",
       "      <td>BitcoinPlus</td>\n",
       "      <td>Scrypt</td>\n",
       "      <td>True</td>\n",
       "      <td>PoS</td>\n",
       "      <td>1.283270e+05</td>\n",
       "      <td>1000000</td>\n",
       "    </tr>\n",
       "    <tr>\n",
       "      <th>1248</th>\n",
       "      <td>DVTC</td>\n",
       "      <td>DivotyCoin</td>\n",
       "      <td>Scrypt</td>\n",
       "      <td>False</td>\n",
       "      <td>PoW/PoS</td>\n",
       "      <td>2.149121e+07</td>\n",
       "      <td>100000000</td>\n",
       "    </tr>\n",
       "    <tr>\n",
       "      <th>1249</th>\n",
       "      <td>GIOT</td>\n",
       "      <td>Giotto Coin</td>\n",
       "      <td>Scrypt</td>\n",
       "      <td>False</td>\n",
       "      <td>PoW/PoS</td>\n",
       "      <td>NaN</td>\n",
       "      <td>233100000</td>\n",
       "    </tr>\n",
       "    <tr>\n",
       "      <th>1250</th>\n",
       "      <td>OPSC</td>\n",
       "      <td>OpenSourceCoin</td>\n",
       "      <td>SHA-256</td>\n",
       "      <td>False</td>\n",
       "      <td>PoW/PoS</td>\n",
       "      <td>NaN</td>\n",
       "      <td>21000000</td>\n",
       "    </tr>\n",
       "    <tr>\n",
       "      <th>1251</th>\n",
       "      <td>PUNK</td>\n",
       "      <td>SteamPunk</td>\n",
       "      <td>PoS</td>\n",
       "      <td>False</td>\n",
       "      <td>PoS</td>\n",
       "      <td>NaN</td>\n",
       "      <td>40000000</td>\n",
       "    </tr>\n",
       "  </tbody>\n",
       "</table>\n",
       "<p>1252 rows × 7 columns</p>\n",
       "</div>"
      ],
      "text/plain": [
       "     Unnamed: 0        CoinName Algorithm  IsTrading ProofType  \\\n",
       "0            42         42 Coin    Scrypt       True   PoW/PoS   \n",
       "1           365         365Coin       X11       True   PoW/PoS   \n",
       "2           404         404Coin    Scrypt       True   PoW/PoS   \n",
       "3           611       SixEleven   SHA-256       True       PoW   \n",
       "4           808             808   SHA-256       True   PoW/PoS   \n",
       "...         ...             ...       ...        ...       ...   \n",
       "1247        XBC     BitcoinPlus    Scrypt       True       PoS   \n",
       "1248       DVTC      DivotyCoin    Scrypt      False   PoW/PoS   \n",
       "1249       GIOT     Giotto Coin    Scrypt      False   PoW/PoS   \n",
       "1250       OPSC  OpenSourceCoin   SHA-256      False   PoW/PoS   \n",
       "1251       PUNK       SteamPunk       PoS      False       PoS   \n",
       "\n",
       "      TotalCoinsMined TotalCoinSupply  \n",
       "0        4.199995e+01              42  \n",
       "1                 NaN      2300000000  \n",
       "2        1.055185e+09       532000000  \n",
       "3                 NaN          611000  \n",
       "4        0.000000e+00               0  \n",
       "...               ...             ...  \n",
       "1247     1.283270e+05         1000000  \n",
       "1248     2.149121e+07       100000000  \n",
       "1249              NaN       233100000  \n",
       "1250              NaN        21000000  \n",
       "1251              NaN        40000000  \n",
       "\n",
       "[1252 rows x 7 columns]"
      ]
     },
     "execution_count": 3,
     "metadata": {},
     "output_type": "execute_result"
    }
   ],
   "source": [
    "# Read csv file\n",
    "crypto_df = pd.read_csv(Path('Resources/crypto_data.csv'))\n",
    "crypto_df"
   ]
  },
  {
   "cell_type": "markdown",
   "id": "07dcc1e4",
   "metadata": {},
   "source": [
    "## Data Preparation"
   ]
  },
  {
   "cell_type": "code",
   "execution_count": 4,
   "id": "2db4eba8",
   "metadata": {},
   "outputs": [
    {
     "data": {
      "text/plain": [
       "Unnamed: 0  CoinName     Algorithm    IsTrading  ProofType  TotalCoinsMined  TotalCoinSupply\n",
       "1337        EliteCoin    X13          True       PoW/PoS    2.927942e+10     314159265359       1\n",
       "POKER       PokerCoin    Scrypt       False      PoS/PoW    0.000000e+00     466666667          1\n",
       "PKB         ParkByte     SHA-256      True       PoW/PoS    0.000000e+00     25000000           1\n",
       "PLNC        PLNCoin      Scrypt       True       PoW/PoS    1.708960e+07     38540000           1\n",
       "PLTC        PlatinCoin   CryptoNight  True       PoW        8.430000e+04     600000518          1\n",
       "                                                                                               ..\n",
       "FAIR        FairCoin     Groestl      True       PoW/PoS    5.319383e+07     0                  1\n",
       "FC2         Fuel2Coin    X11          True       PoS        0.000000e+00     100000000          1\n",
       "FCN         FantomCoin   CryptoNight  True       PoW        0.000000e+00     18400000           1\n",
       "FIBRE       FIBRE        NIST5        True       PoW/PoS    0.000000e+00     624000             1\n",
       "ZYD         ZayedCoin    SHA-256      True       PoW        6.243840e+06     9736000            1\n",
       "Length: 744, dtype: int64"
      ]
     },
     "execution_count": 4,
     "metadata": {},
     "output_type": "execute_result"
    }
   ],
   "source": [
    "crypto_df.value_counts()"
   ]
  },
  {
   "cell_type": "code",
   "execution_count": null,
   "id": "4c01bdbc",
   "metadata": {},
   "outputs": [],
   "source": [
    "# "
   ]
  },
  {
   "cell_type": "code",
   "execution_count": null,
   "id": "e692b26b",
   "metadata": {},
   "outputs": [],
   "source": []
  },
  {
   "cell_type": "code",
   "execution_count": null,
   "id": "015b4387",
   "metadata": {},
   "outputs": [],
   "source": []
  },
  {
   "cell_type": "markdown",
   "id": "0a684618",
   "metadata": {},
   "source": [
    "## Dimensionality Reduction"
   ]
  },
  {
   "cell_type": "code",
   "execution_count": null,
   "id": "c34d79f4",
   "metadata": {},
   "outputs": [],
   "source": []
  },
  {
   "cell_type": "code",
   "execution_count": null,
   "id": "2fbca968",
   "metadata": {},
   "outputs": [],
   "source": []
  },
  {
   "cell_type": "code",
   "execution_count": null,
   "id": "c2d8eda3",
   "metadata": {},
   "outputs": [],
   "source": []
  },
  {
   "cell_type": "markdown",
   "id": "1c038faf",
   "metadata": {},
   "source": [
    "## Cluster Analysis with k-Means "
   ]
  },
  {
   "cell_type": "code",
   "execution_count": null,
   "id": "511acd97",
   "metadata": {},
   "outputs": [],
   "source": []
  },
  {
   "cell_type": "code",
   "execution_count": null,
   "id": "029b2940",
   "metadata": {},
   "outputs": [],
   "source": []
  },
  {
   "cell_type": "code",
   "execution_count": null,
   "id": "8894a554",
   "metadata": {},
   "outputs": [],
   "source": []
  },
  {
   "cell_type": "code",
   "execution_count": null,
   "id": "9eaa1139",
   "metadata": {},
   "outputs": [],
   "source": []
  },
  {
   "cell_type": "markdown",
   "id": "b4300a77",
   "metadata": {},
   "source": [
    "## Recommendation"
   ]
  },
  {
   "cell_type": "code",
   "execution_count": null,
   "id": "ca321b46",
   "metadata": {},
   "outputs": [],
   "source": []
  },
  {
   "cell_type": "code",
   "execution_count": null,
   "id": "b426c4a6",
   "metadata": {},
   "outputs": [],
   "source": []
  },
  {
   "cell_type": "code",
   "execution_count": null,
   "id": "56cbbfad",
   "metadata": {},
   "outputs": [],
   "source": []
  }
 ],
 "metadata": {
  "kernelspec": {
   "display_name": "Python 3",
   "language": "python",
   "name": "python3"
  },
  "language_info": {
   "codemirror_mode": {
    "name": "ipython",
    "version": 3
   },
   "file_extension": ".py",
   "mimetype": "text/x-python",
   "name": "python",
   "nbconvert_exporter": "python",
   "pygments_lexer": "ipython3",
   "version": "3.8.8"
  }
 },
 "nbformat": 4,
 "nbformat_minor": 5
}
